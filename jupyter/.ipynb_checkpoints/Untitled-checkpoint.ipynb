{
 "cells": [
  {
   "cell_type": "code",
   "execution_count": 2,
   "id": "3772e218",
   "metadata": {},
   "outputs": [],
   "source": [
    "import os\n",
    "import sys\n",
    "import pickle\n",
    "file = os.path.join(\"./20102022_num_outputs=2_N=100_Nsteps=750_srec=0.05_sinp=0.05_date=2022-10-21_SGE_TASK_ID=103_MSEout=0.0313018\",\n",
    "            \"data_20102022_num_outputs=2_N=100_Nsteps=750_srec=0.05_sinp=0.05_date=2022-10-21_SGE_TASK_ID=103_MSEout=0.0313018.pkl\")\n",
    "data = pickle.load(open(file, 'rb+'))"
   ]
  },
  {
   "cell_type": "code",
   "execution_count": 6,
   "id": "08f6b604",
   "metadata": {},
   "outputs": [
    {
     "name": "stdout",
     "output_type": "stream",
     "text": [
      "N : 100\n",
      "dt : 1\n",
      "tau : 10\n",
      "sr : 1.0\n",
      "lr : 0.002\n",
      "lambda_o : 0.3\n",
      "coherences_train : [-0.8    -0.4    -0.2    -0.1    -0.05   -0.025  -0.0125  0.      0.0125\n",
      "  0.025   0.05    0.1     0.2     0.4     0.8   ]\n",
      "coherences_valid : [-1.  -0.8 -0.6 -0.4 -0.2  0.   0.2  0.4  0.6  0.8  1. ]\n",
      "n_steps : 750\n",
      "protocol_dict : {'cue_on': 0, 'cue_off': 750, 'stim_on': 250, 'stim_off': 750, 'dec_on': 500, 'dec_off': 750}\n",
      "w_noise : False\n",
      "sigma_rec : 0.05\n",
      "sigma_inp : 0.05\n",
      "train_mask : [  0   1   2   3   4   5   6   7   8   9  10  11  12  13  14  15  16  17\n",
      "  18  19  20  21  22  23  24  25  26  27  28  29  30  31  32  33  34  35\n",
      "  36  37  38  39  40  41  42  43  44  45  46  47  48  49  50  51  52  53\n",
      "  54  55  56  57  58  59  60  61  62  63  64  65  66  67  68  69  70  71\n",
      "  72  73  74  75  76  77  78  79  80  81  82  83  84  85  86  87  88  89\n",
      "  90  91  92  93  94  95  96  97  98  99 100 101 102 103 104 105 106 107\n",
      " 108 109 110 111 112 113 114 115 116 117 118 119 120 121 122 123 124 125\n",
      " 126 127 128 129 130 131 132 133 134 135 136 137 138 139 140 141 142 143\n",
      " 144 145 146 147 148 149 150 151 152 153 154 155 156 157 158 159 160 161\n",
      " 162 163 164 165 166 167 168 169 170 171 172 173 174 175 176 177 178 179\n",
      " 180 181 182 183 184 185 186 187 188 189 190 191 192 193 194 195 196 197\n",
      " 198 199 200 201 202 203 204 205 206 207 208 209 210 211 212 213 214 215\n",
      " 216 217 218 219 220 221 222 223 224 225 226 227 228 229 230 231 232 233\n",
      " 234 235 236 237 238 239 240 241 242 243 244 245 246 247 248 249 500 501\n",
      " 502 503 504 505 506 507 508 509 510 511 512 513 514 515 516 517 518 519\n",
      " 520 521 522 523 524 525 526 527 528 529 530 531 532 533 534 535 536 537\n",
      " 538 539 540 541 542 543 544 545 546 547 548 549 550 551 552 553 554 555\n",
      " 556 557 558 559 560 561 562 563 564 565 566 567 568 569 570 571 572 573\n",
      " 574 575 576 577 578 579 580 581 582 583 584 585 586 587 588 589 590 591\n",
      " 592 593 594 595 596 597 598 599 600 601 602 603 604 605 606 607 608 609\n",
      " 610 611 612 613 614 615 616 617 618 619 620 621 622 623 624 625 626 627\n",
      " 628 629 630 631 632 633 634 635 636 637 638 639 640 641 642 643 644 645\n",
      " 646 647 648 649 650 651 652 653 654 655 656 657 658 659 660 661 662 663\n",
      " 664 665 666 667 668 669 670 671 672 673 674 675 676 677 678 679 680 681\n",
      " 682 683 684 685 686 687 688 689 690 691 692 693 694 695 696 697 698 699\n",
      " 700 701 702 703 704 705 706 707 708 709 710 711 712 713 714 715 716 717\n",
      " 718 719 720 721 722 723 724 725 726 727 728 729 730 731 732 733 734 735\n",
      " 736 737 738 739 740 741 742 743 744 745 746 747 748 749]\n",
      "max_iter : 800\n",
      "tag : 20102022_num_outputs=2_N=100_Nsteps=750_srec=0.05_sinp=0.05\n",
      "seed : None\n",
      "num_outputs : 2\n",
      "connectivity_density_rec : 1.0\n",
      "tol : 1e-10\n",
      "weight_decay : 5e-06\n",
      "constrained : True\n",
      "disp_figs : False\n",
      "save_figs_locally : True\n",
      "save_data : True\n",
      "data_folder : /grid/engel/home/tolmach/selection_in_neural_circuits/data/trained_large_RNNs\n"
     ]
    }
   ],
   "source": [
    "param_list = list(data.keys())[6:]\n",
    "for param_key in param_list:\n",
    "    print(f\"{param_key} : {data[param_key]}\")"
   ]
  },
  {
   "cell_type": "code",
   "execution_count": null,
   "id": "4f370bb4",
   "metadata": {},
   "outputs": [],
   "source": []
  }
 ],
 "metadata": {
  "kernelspec": {
   "display_name": "Python 3 (ipykernel)",
   "language": "python",
   "name": "python3"
  },
  "language_info": {
   "codemirror_mode": {
    "name": "ipython",
    "version": 3
   },
   "file_extension": ".py",
   "mimetype": "text/x-python",
   "name": "python",
   "nbconvert_exporter": "python",
   "pygments_lexer": "ipython3",
   "version": "3.10.8"
  }
 },
 "nbformat": 4,
 "nbformat_minor": 5
}
