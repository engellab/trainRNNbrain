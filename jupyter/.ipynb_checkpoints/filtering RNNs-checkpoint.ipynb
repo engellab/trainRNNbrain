{
 "cells": [
  {
   "cell_type": "code",
   "execution_count": 1,
   "id": "ebfe9ca1",
   "metadata": {},
   "outputs": [
    {
     "data": {
      "text/plain": [
       "0"
      ]
     },
     "execution_count": 1,
     "metadata": {},
     "output_type": "execute_result"
    }
   ],
   "source": [
    "import numpy as np\n",
    "from matplotlib import pyplot as plt\n",
    "import os\n",
    "import pickle\n",
    "import json\n",
    "from copy import deepcopy\n",
    "import pandas as pd\n",
    "import sys\n",
    "sys.path.insert(0, '../')\n",
    "sys.path.insert(0, '../../')\n",
    "from style import style_setup\n",
    "\n",
    "os.system('python ../style/style_setup.py')"
   ]
  },
  {
   "cell_type": "code",
   "execution_count": 2,
   "id": "a4d4a0f6",
   "metadata": {},
   "outputs": [],
   "source": [
    "path_to_RNNs = '/Users/tolmach/Documents/GitHub/rnn_coach/data/trained_RNNs/CDDMrelu'"
   ]
  },
  {
   "cell_type": "code",
   "execution_count": 4,
   "id": "644da958",
   "metadata": {},
   "outputs": [],
   "source": [
    "subfolders = os.listdir(path_to_RNNs)\n",
    "if \".DS_Store\" in subfolders:\n",
    "    subfolders.remove(\".DS_Store\")\n",
    "    \n",
    "    "
   ]
  },
  {
   "cell_type": "code",
   "execution_count": 7,
   "id": "329840c4",
   "metadata": {},
   "outputs": [
    {
     "data": {
      "text/html": [
       "<div>\n",
       "<style scoped>\n",
       "    .dataframe tbody tr th:only-of-type {\n",
       "        vertical-align: middle;\n",
       "    }\n",
       "\n",
       "    .dataframe tbody tr th {\n",
       "        vertical-align: top;\n",
       "    }\n",
       "\n",
       "    .dataframe thead th {\n",
       "        text-align: right;\n",
       "    }\n",
       "</style>\n",
       "<table border=\"1\" class=\"dataframe\">\n",
       "  <thead>\n",
       "    <tr style=\"text-align: right;\">\n",
       "      <th></th>\n",
       "      <th>0</th>\n",
       "    </tr>\n",
       "  </thead>\n",
       "  <tbody>\n",
       "    <tr>\n",
       "      <th>0</th>\n",
       "      <td>0.0087091_CDDM;relu;N=97;lmbdo=0.3;lmbdr=0.5;l...</td>\n",
       "    </tr>\n",
       "    <tr>\n",
       "      <th>1</th>\n",
       "      <td>0.008482_CDDM;relu;N=97;lmbdo=0.3;lmbdr=0.5;lr...</td>\n",
       "    </tr>\n",
       "    <tr>\n",
       "      <th>2</th>\n",
       "      <td>0.0068735_CDDM;relu;N=98;lmbdo=0.3;lmbdr=0.05;...</td>\n",
       "    </tr>\n",
       "    <tr>\n",
       "      <th>3</th>\n",
       "      <td>0.0114539_CDDM;relu;N=99;lmbdo=0.3;lmbdr=0.5;l...</td>\n",
       "    </tr>\n",
       "    <tr>\n",
       "      <th>4</th>\n",
       "      <td>0.011325_CDDM;relu;N=100;lmbdo=0.3;lmbdr=0.5;l...</td>\n",
       "    </tr>\n",
       "    <tr>\n",
       "      <th>...</th>\n",
       "      <td>...</td>\n",
       "    </tr>\n",
       "    <tr>\n",
       "      <th>405</th>\n",
       "      <td>0.0079612_CDDM;relu;N=94;lmbdo=0.3;lmbdr=0.3;l...</td>\n",
       "    </tr>\n",
       "    <tr>\n",
       "      <th>406</th>\n",
       "      <td>0.0089895_CDDM;relu;N=96;lmbdo=0.3;lmbdr=0.3;l...</td>\n",
       "    </tr>\n",
       "    <tr>\n",
       "      <th>407</th>\n",
       "      <td>0.0084336_CDDM;relu;N=97;lmbdo=0.3;lmbdr=0.3;l...</td>\n",
       "    </tr>\n",
       "    <tr>\n",
       "      <th>408</th>\n",
       "      <td>0.0117279_CDDM;relu;N=99;lmbdo=0.3;lmbdr=0.5;l...</td>\n",
       "    </tr>\n",
       "    <tr>\n",
       "      <th>409</th>\n",
       "      <td>0.0080135_CDDM;relu;N=98;lmbdo=0.3;lmbdr=0.5;l...</td>\n",
       "    </tr>\n",
       "  </tbody>\n",
       "</table>\n",
       "<p>410 rows × 1 columns</p>\n",
       "</div>"
      ],
      "text/plain": [
       "                                                     0\n",
       "0    0.0087091_CDDM;relu;N=97;lmbdo=0.3;lmbdr=0.5;l...\n",
       "1    0.008482_CDDM;relu;N=97;lmbdo=0.3;lmbdr=0.5;lr...\n",
       "2    0.0068735_CDDM;relu;N=98;lmbdo=0.3;lmbdr=0.05;...\n",
       "3    0.0114539_CDDM;relu;N=99;lmbdo=0.3;lmbdr=0.5;l...\n",
       "4    0.011325_CDDM;relu;N=100;lmbdo=0.3;lmbdr=0.5;l...\n",
       "..                                                 ...\n",
       "405  0.0079612_CDDM;relu;N=94;lmbdo=0.3;lmbdr=0.3;l...\n",
       "406  0.0089895_CDDM;relu;N=96;lmbdo=0.3;lmbdr=0.3;l...\n",
       "407  0.0084336_CDDM;relu;N=97;lmbdo=0.3;lmbdr=0.3;l...\n",
       "408  0.0117279_CDDM;relu;N=99;lmbdo=0.3;lmbdr=0.5;l...\n",
       "409  0.0080135_CDDM;relu;N=98;lmbdo=0.3;lmbdr=0.5;l...\n",
       "\n",
       "[410 rows x 1 columns]"
      ]
     },
     "execution_count": 7,
     "metadata": {},
     "output_type": "execute_result"
    }
   ],
   "source": [
    "for subfolder in subfolders:\n",
    "    score = subfolder.split(\"_\")[0]\n",
    "    N = subfolder.split(\";\")[2].split(\"=\")[1]\n",
    "    lmbdo = subfolder.split(\"lmbdo=\")[1].split(\";\")[0]\n",
    "    lmbdr = subfolder.split(\"lmbdr=\")[1].split(\";\")[0]\n",
    "    maxiter = subfolder.split(\"maxiter=\")[1]\n",
    "    \n",
    "pd.DataFrame(subfolders)"
   ]
  },
  {
   "cell_type": "code",
   "execution_count": 8,
   "id": "f7ccbf76",
   "metadata": {},
   "outputs": [
    {
     "data": {
      "text/plain": [
       "'0.0087091_CDDM;relu;N=97;lmbdo=0.3;lmbdr=0.5;lr=0.002;maxiter=3000'"
      ]
     },
     "execution_count": 8,
     "metadata": {},
     "output_type": "execute_result"
    }
   ],
   "source": [
    "subfolders[0]"
   ]
  },
  {
   "cell_type": "code",
   "execution_count": null,
   "id": "a05b8368",
   "metadata": {},
   "outputs": [],
   "source": []
  }
 ],
 "metadata": {
  "kernelspec": {
   "display_name": "Python 3 (ipykernel)",
   "language": "python",
   "name": "python3"
  },
  "language_info": {
   "codemirror_mode": {
    "name": "ipython",
    "version": 3
   },
   "file_extension": ".py",
   "mimetype": "text/x-python",
   "name": "python",
   "nbconvert_exporter": "python",
   "pygments_lexer": "ipython3",
   "version": "3.10.8"
  }
 },
 "nbformat": 4,
 "nbformat_minor": 5
}
