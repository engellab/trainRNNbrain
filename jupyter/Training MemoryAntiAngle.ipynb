{
 "cells": [
  {
   "cell_type": "code",
   "execution_count": 1,
   "id": "cb55a450",
   "metadata": {},
   "outputs": [
    {
     "name": "stderr",
     "output_type": "stream",
     "text": [
      "python: can't open file '/Users/tolmach/Documents/GitHub/trainRNNbrain/jupyter/../../style/style_setup.py': [Errno 2] No such file or directory\n"
     ]
    }
   ],
   "source": [
    "import os\n",
    "import json\n",
    "import pickle\n",
    "import sys\n",
    "sys.path.insert(0, '../')\n",
    "from trainRNNbrain.datasaver.DataSaver import DataSaver\n",
    "from trainRNNbrain.analyzers.DynamicSystemAnalyzer import *\n",
    "from trainRNNbrain.analyzers.PerformanceAnalyzer import *\n",
    "from trainRNNbrain.rnns.RNN_numpy import RNN_numpy\n",
    "from trainRNNbrain.rnns.RNN_torch import RNN_torch\n",
    "from trainRNNbrain.utils import get_project_root, numpify, orthonormalize\n",
    "from trainRNNbrain.trainer.Trainer import Trainer\n",
    "from trainRNNbrain.tasks.TaskMemoryAntiAngle import *\n",
    "from matplotlib import pyplot as plt\n",
    "import torch\n",
    "import time\n",
    "from sklearn.decomposition import PCA"
   ]
  },
  {
   "cell_type": "code",
   "execution_count": 2,
   "id": "2b1f3dea",
   "metadata": {},
   "outputs": [],
   "source": [
    "import typing as T\n",
    "import os\n",
    "import matplotlib.colors as mcolors\n",
    "import matplotlib.font_manager as mfonts\n",
    "from trainRNNbrain.utils import get_project_root\n",
    "from matplotlib import pyplot as plt\n",
    "\n",
    "def setup_fonts(fontpaths, verbose: bool = False, **kwargs):\n",
    "    for font in sorted(mfonts.findSystemFonts(fontpaths=fontpaths, **kwargs)):\n",
    "        mfonts.fontManager.addfont(font)\n",
    "        if verbose: print(f'font:\\t{os.path.basename(font)}')\n",
    "\n",
    "\n",
    "def setup_colors(themepaths, verbose: bool = False):\n",
    "    for themepath in themepaths:\n",
    "        with open(themepath, 'rt') as f:\n",
    "            lines = f.readlines()\n",
    "            for line in lines:\n",
    "                line = line.strip()\n",
    "                if line.startswith('#'): continue\n",
    "                names, value = line.split(':')\n",
    "                value = value.strip()\n",
    "                for name in names.split(','):\n",
    "                    name = name.strip()\n",
    "                    mcolors._colors_full_map[name] = value  # type: ignore\n",
    "                    if verbose: print(f'color:\\t{name:16s} {value:}')\n",
    "\n",
    "setup_fonts([os.path.join(get_project_root(), \"style\", \"assets\", \"fonts\")], verbose=False)\n",
    "setup_colors([os.path.join(get_project_root(), \"style\", \"assets\", \"styles\", \"scientific.txt\")], verbose=False)\n",
    "plt.style.use([os.path.join(get_project_root(), 'style', 'assets', 'styles', 'scientific.mplstyle'), {'figure.dpi': 144}])"
   ]
  },
  {
   "cell_type": "code",
   "execution_count": 3,
   "id": "5383cb4a",
   "metadata": {},
   "outputs": [],
   "source": [
    "# defining RNN:\n",
    "N = 100\n",
    "activation_name = 'relu'\n",
    "activation_slope = 1.0\n",
    "dt = 1\n",
    "tau = 10\n",
    "exc_to_inh_ratio = 4\n",
    "constrained = True # whether to impose Dale constraint and positivity of inputs and outputs\n",
    "connectivity_density_rec = 1.0 # no sparsity here\n",
    "spectral_rad = 1.2 \n",
    "sigma_inp = 0.05\n",
    "sigma_rec = 0.05\n",
    "seed = 0\n",
    "\n",
    "n_angle_encoding_variables = 3\n",
    "input_size = n_angle_encoding_variables + 2 # n_angle_encoding_variables inputs encoding the angle, 1 bias, 1 Go Cue\n",
    "output_size = n_angle_encoding_variables "
   ]
  },
  {
   "cell_type": "markdown",
   "id": "99a40371-749d-4da2-9720-dd3753505c41",
   "metadata": {},
   "source": [
    "In this task there the incoming angle is encoded by 3 numbers:\n",
    "the whole circle representing 360 degrees is divided into 3 arks, by three equidistant points.\n",
    "- the 0 degree angle is represented by the full activity of the first input channel \n",
    "- the 60 degree angle is represented by the equal mixture of activity of the first and the second input channel\n",
    "- the 120 degree angle is represented by the pure activity of the second input channel.\n",
    "- the 150 degree angle is represented by the equal mixture activity of the second and the third input channel\n",
    "and so on.\n",
    "\n",
    "\n",
    "'A' degrees angle is encoded as:\n",
    "\n",
    "num_angle_encoding_inps = 3\n",
    "\n",
    "arc_length = 2 * np.pi / num_angle_encoding_inps % 120 in this case\n",
    "\n",
    "ind_channel = int(np.floor(A / arc_length)) \n",
    "\n",
    "v = A % arc\n",
    "\n",
    "input_stream[ind_channel % num_angle_encoding_inps, stim_on: stim_off] = (1 - v/arc)\n",
    "\n",
    "input_stream[(ind_channel + 1) % num_angle_encoding_inps, stim_on: stim_off] = v/arc\n",
    "\n",
    "input_stream[(ind_channel + 2) % num_angle_encoding_inps, stim_on: stim_off] = 0"
   ]
  },
  {
   "cell_type": "code",
   "execution_count": 5,
   "id": "f7500051",
   "metadata": {},
   "outputs": [],
   "source": [
    "# Task:\n",
    "T = 100\n",
    "n_steps = int(np.ceil(T/dt))\n",
    "stim_on = 10\n",
    "stim_off = 20\n",
    "random_window = 10\n",
    "recall_on = 50\n",
    "recall_off = n_steps"
   ]
  },
  {
   "cell_type": "code",
   "execution_count": 6,
   "id": "ff76dec2",
   "metadata": {},
   "outputs": [],
   "source": [
    "# Trainer:\n",
    "lambda_orth = 0.3\n",
    "lambda_r = 0.0\n",
    "train_mask = np.arange(n_steps)\n",
    "max_iter = 2000\n",
    "tol = 1e-10\n",
    "lr = 0.02\n",
    "weight_decay = 1e-6\n",
    "same_batch = False # generate new bath every new iteration"
   ]
  },
  {
   "cell_type": "code",
   "execution_count": 7,
   "id": "b209fa8b",
   "metadata": {},
   "outputs": [
    {
     "name": "stdout",
     "output_type": "stream",
     "text": [
      "Using cpu for RNN!\n"
     ]
    }
   ],
   "source": [
    "# creating instances:\n",
    "rnn_torch = RNN_torch(N=N,\n",
    "                      activation_name=activation_name,\n",
    "                      activation_slope=activation_slope,\n",
    "                      dt=dt,\n",
    "                      tau=tau,\n",
    "                      input_size=input_size,\n",
    "                      output_size=output_size,\n",
    "                      constrained=constrained,\n",
    "                      exc_to_inh_ratio=exc_to_inh_ratio,\n",
    "                      sigma_inp=sigma_inp,\n",
    "                      sigma_rec=sigma_rec,\n",
    "                      connectivity_density_rec=connectivity_density_rec,\n",
    "                      spectral_rad=spectral_rad,\n",
    "                      seed=seed)\n",
    "\n",
    "#task\n",
    "task = TaskMemoryAntiAngle(n_steps=n_steps,\n",
    "                           n_inputs=input_size,\n",
    "                           n_outputs=output_size, \n",
    "                           stim_on=stim_on, \n",
    "                           stim_off=stim_off,\n",
    "                           random_window=random_window,\n",
    "                           recall_on=recall_on,\n",
    "                           recall_off=recall_off)\n",
    "\n",
    "criterion = torch.nn.MSELoss()\n",
    "optimizer = torch.optim.Adam(rnn_torch.parameters(),\n",
    "                             lr=lr,\n",
    "                             weight_decay=weight_decay)\n",
    "#trainer\n",
    "trainer = Trainer(RNN=rnn_torch, Task=task,\n",
    "                  max_iter=max_iter, tol=tol,\n",
    "                  optimizer=optimizer, criterion=criterion,\n",
    "                  lambda_orth=lambda_orth, lambda_r=lambda_r)\n",
    "datasaver = None"
   ]
  },
  {
   "cell_type": "code",
   "execution_count": 8,
   "id": "3bd9173c",
   "metadata": {},
   "outputs": [
    {
     "data": {
      "image/png": "[encoded data removed]",
      "text/plain": [
       "<Figure size 720x288 with 1 Axes>"
      ]
     },
     "metadata": {
      "needs_background": "light"
     },
     "output_type": "display_data"
    }
   ],
   "source": [
    "inputs, targets, conditions = task.get_batch()\n",
    "ind = 11\n",
    "\n",
    "fig = plt.figure(figsize = (5, 2))\n",
    "plt.plot(inputs[0, :, ind], color = 'red', linewidth=2, label = 'input 1')\n",
    "plt.plot(inputs[1, :, ind], color = 'green',  linewidth=2, label = 'input 2')\n",
    "plt.plot(inputs[2, :, ind], color = 'blue',  linewidth=2, alpha = 0.5, label = 'input 3')\n",
    "\n",
    "plt.plot(targets[0, :, ind] + 0.01 * np.random.randn(), color = 'orange',  linewidth=2, linestyle = '--', label = 'target 1')\n",
    "plt.plot(targets[1, :, ind] + 0.01 * np.random.randn(), color = 'cyan',  linewidth=2, linestyle = '--', label = 'target 2')\n",
    "plt.plot(targets[2, :, ind] + 0.01 * np.random.randn(), color = 'magenta',  linewidth=2, linestyle = '--', label = 'target 3')\n",
    "plt.ylim([-0.02, 1.1])\n",
    "plt.legend()\n",
    "plt.show()"
   ]
  },
  {
   "cell_type": "code",
   "execution_count": null,
   "id": "24fc509f",
   "metadata": {
    "scrolled": true
   },
   "outputs": [
    {
     "name": "stdout",
     "output_type": "stream",
     "text": [
      "iteration 0, train loss: \u001b[92m1.614471\u001b[0m, validation loss: \u001b[92m1.432404\u001b[0m\n",
      "iteration 1, train loss: \u001b[92m1.431247\u001b[0m, validation loss: \u001b[92m1.406652\u001b[0m\n",
      "iteration 2, train loss: \u001b[92m1.405188\u001b[0m, validation loss: \u001b[92m1.343055\u001b[0m\n",
      "iteration 3, train loss: \u001b[92m1.344136\u001b[0m, validation loss: \u001b[92m1.235484\u001b[0m\n",
      "iteration 4, train loss: \u001b[92m1.234932\u001b[0m, validation loss: \u001b[92m1.105426\u001b[0m\n",
      "iteration 5, train loss: \u001b[92m1.105285\u001b[0m, validation loss: \u001b[92m0.993465\u001b[0m\n",
      "iteration 6, train loss: \u001b[92m0.99353\u001b[0m, validation loss: \u001b[92m0.891972\u001b[0m\n",
      "iteration 7, train loss: \u001b[92m0.891708\u001b[0m, validation loss: \u001b[92m0.792713\u001b[0m\n",
      "iteration 8, train loss: \u001b[92m0.792989\u001b[0m, validation loss: \u001b[92m0.703661\u001b[0m\n",
      "iteration 9, train loss: \u001b[92m0.704017\u001b[0m, validation loss: \u001b[92m0.628103\u001b[0m\n",
      "iteration 10, train loss: \u001b[92m0.628601\u001b[0m, validation loss: \u001b[92m0.566448\u001b[0m\n",
      "iteration 11, train loss: \u001b[92m0.566373\u001b[0m, validation loss: \u001b[92m0.515732\u001b[0m\n",
      "iteration 12, train loss: \u001b[92m0.515925\u001b[0m, validation loss: \u001b[92m0.474429\u001b[0m\n",
      "iteration 13, train loss: \u001b[92m0.474494\u001b[0m, validation loss: \u001b[92m0.437386\u001b[0m\n",
      "iteration 14, train loss: \u001b[92m0.437299\u001b[0m, validation loss: \u001b[92m0.403838\u001b[0m\n",
      "iteration 15, train loss: \u001b[92m0.40383\u001b[0m, validation loss: \u001b[92m0.374041\u001b[0m\n",
      "iteration 16, train loss: \u001b[92m0.374102\u001b[0m, validation loss: \u001b[92m0.346285\u001b[0m\n",
      "iteration 17, train loss: \u001b[92m0.346269\u001b[0m, validation loss: \u001b[92m0.322559\u001b[0m\n",
      "iteration 18, train loss: \u001b[92m0.322529\u001b[0m, validation loss: \u001b[92m0.299722\u001b[0m\n",
      "iteration 19, train loss: \u001b[92m0.299669\u001b[0m, validation loss: \u001b[92m0.278641\u001b[0m\n",
      "iteration 20, train loss: \u001b[92m0.278635\u001b[0m, validation loss: \u001b[92m0.259598\u001b[0m\n",
      "iteration 21, train loss: \u001b[92m0.259568\u001b[0m, validation loss: \u001b[92m0.24267\u001b[0m\n",
      "iteration 22, train loss: \u001b[92m0.242663\u001b[0m, validation loss: \u001b[92m0.229679\u001b[0m\n",
      "iteration 23, train loss: \u001b[92m0.229676\u001b[0m, validation loss: \u001b[92m0.2177\u001b[0m\n",
      "iteration 24, train loss: \u001b[92m0.217699\u001b[0m, validation loss: \u001b[92m0.206624\u001b[0m\n",
      "iteration 25, train loss: \u001b[92m0.20662\u001b[0m, validation loss: \u001b[92m0.196595\u001b[0m\n",
      "iteration 26, train loss: \u001b[92m0.196554\u001b[0m, validation loss: \u001b[92m0.187203\u001b[0m\n",
      "iteration 27, train loss: \u001b[92m0.187145\u001b[0m, validation loss: \u001b[92m0.178581\u001b[0m\n",
      "iteration 28, train loss: \u001b[92m0.178472\u001b[0m, validation loss: \u001b[92m0.170679\u001b[0m\n",
      "iteration 29, train loss: \u001b[92m0.170375\u001b[0m, validation loss: \u001b[92m0.163285\u001b[0m\n",
      "iteration 30, train loss: \u001b[92m0.162923\u001b[0m, validation loss: \u001b[92m0.156288\u001b[0m\n",
      "iteration 31, train loss: \u001b[92m0.155642\u001b[0m, validation loss: \u001b[92m0.149487\u001b[0m\n",
      "iteration 32, train loss: \u001b[92m0.148606\u001b[0m, validation loss: \u001b[92m0.142893\u001b[0m\n",
      "iteration 33, train loss: \u001b[92m0.142073\u001b[0m, validation loss: \u001b[92m0.136609\u001b[0m\n",
      "iteration 34, train loss: \u001b[92m0.135504\u001b[0m, validation loss: \u001b[92m0.130966\u001b[0m\n",
      "iteration 35, train loss: \u001b[92m0.12965\u001b[0m, validation loss: \u001b[92m0.126808\u001b[0m\n",
      "iteration 36, train loss: \u001b[92m0.124847\u001b[0m, validation loss: \u001b[92m0.123121\u001b[0m\n",
      "iteration 37, train loss: \u001b[92m0.121336\u001b[0m, validation loss: \u001b[92m0.119777\u001b[0m\n",
      "iteration 38, train loss: \u001b[92m0.117581\u001b[0m, validation loss: \u001b[92m0.116663\u001b[0m\n",
      "iteration 39, train loss: \u001b[92m0.114251\u001b[0m, validation loss: \u001b[92m0.113812\u001b[0m\n",
      "iteration 40, train loss: \u001b[92m0.111336\u001b[0m, validation loss: \u001b[92m0.111008\u001b[0m\n",
      "iteration 41, train loss: \u001b[92m0.10801\u001b[0m, validation loss: \u001b[92m0.108144\u001b[0m\n",
      "iteration 42, train loss: \u001b[92m0.105609\u001b[0m, validation loss: \u001b[92m0.1052\u001b[0m\n",
      "iteration 43, train loss: \u001b[92m0.103548\u001b[0m, validation loss: \u001b[92m0.102019\u001b[0m\n",
      "iteration 44, train loss: \u001b[92m0.099449\u001b[0m, validation loss: \u001b[92m0.098426\u001b[0m\n",
      "iteration 45, train loss: \u001b[92m0.097657\u001b[0m, validation loss: \u001b[92m0.094476\u001b[0m\n",
      "iteration 46, train loss: \u001b[92m0.095127\u001b[0m, validation loss: \u001b[92m0.090048\u001b[0m\n",
      "iteration 47, train loss: \u001b[92m0.090084\u001b[0m, validation loss: \u001b[92m0.085009\u001b[0m\n",
      "iteration 48, train loss: \u001b[92m0.083878\u001b[0m, validation loss: \u001b[92m0.079403\u001b[0m\n",
      "iteration 49, train loss: \u001b[92m0.080785\u001b[0m, validation loss: \u001b[92m0.073391\u001b[0m\n"
     ]
    }
   ],
   "source": [
    "# training RNNs\n",
    "trained_rnn, train_losses, val_losses, best_rnn_params = trainer.run_training(train_mask=train_mask, same_batch=same_batch, shuffle=False)\n",
    "\n",
    "#save the parameters\n",
    "pickle.dump(best_rnn_params, open(\"./training_MemoryAntiAngle_example/best_rnn_params_MemoryAntiAngle.pkl\", \"wb+\"))\n",
    "\n",
    "fig_trainloss = plt.figure(figsize=(5, 2))\n",
    "plt.plot(train_losses, linewidth=2, color='r', label='train loss (log scale)')\n",
    "plt.plot(val_losses, linewidth=2, color='b', label='valid loss (log scale)')\n",
    "plt.yscale(\"log\")\n",
    "plt.grid(True)\n",
    "plt.xlabel(\"# epoch\")\n",
    "plt.ylabel(\"Loss\")\n",
    "plt.legend()\n",
    "plt.show()"
   ]
  },
  {
   "cell_type": "code",
   "execution_count": null,
   "id": "65e9a2f6-4bcb-462d-aa8b-65be755e887e",
   "metadata": {},
   "outputs": [],
   "source": [
    "best_rnn_params = pickle.load(open(\"./training_MemoryAntiAngle_example/best_rnn_params_MemoryAntiAngle.pkl\", \"rb+\"))\n",
    "best_rnn_params.keys()"
   ]
  },
  {
   "cell_type": "code",
   "execution_count": null,
   "id": "561664da",
   "metadata": {},
   "outputs": [],
   "source": [
    "# validate\n",
    "RNN_valid = RNN_numpy(N=best_rnn_params[\"N\"],\n",
    "                      dt=best_rnn_params[\"dt\"],\n",
    "                      tau=best_rnn_params[\"tau\"],\n",
    "                      W_inp=best_rnn_params[\"W_inp\"],\n",
    "                      W_rec=best_rnn_params[\"W_rec\"],\n",
    "                      W_out=best_rnn_params[\"W_out\"],\n",
    "                      activation_name=activation_name,\n",
    "                      activation_slope=activation_slope)"
   ]
  },
  {
   "cell_type": "code",
   "execution_count": null,
   "id": "bcc23f1b",
   "metadata": {},
   "outputs": [],
   "source": [
    "analyzer = PerformanceAnalyzer(RNN_valid)\n",
    "score_function = lambda x, y: np.mean((x - y) ** 2)\n",
    "input_batch_valid, target_batch_valid, conditions_valid = task.get_batch()\n",
    "score = analyzer.get_validation_score(score_function, input_batch_valid, target_batch_valid,\n",
    "                                      train_mask, sigma_rec=sigma_rec, sigma_inp=sigma_inp)\n",
    "print(f\"MSE validation: {np.round(score, 5)}\")"
   ]
  },
  {
   "cell_type": "code",
   "execution_count": null,
   "id": "b28ac46f",
   "metadata": {},
   "outputs": [],
   "source": [
    "print(f\"Plotting random trials\")\n",
    "inds = np.random.choice(np.arange(input_batch_valid.shape[-1]), 12)\n",
    "inputs = input_batch_valid[..., inds]\n",
    "targets = target_batch_valid[..., inds]\n",
    "conditions = [conditions_valid[ind] for ind in inds]\n",
    "\n",
    "analyzer.plot_trials(input_batch=inputs,\n",
    "                     target_batch=targets,\n",
    "                     mask=train_mask,\n",
    "                     sigma_rec=sigma_rec,\n",
    "                     sigma_inp=sigma_inp,\n",
    "                     conditions=conditions)\n",
    "plt.show()"
   ]
  },
  {
   "cell_type": "code",
   "execution_count": null,
   "id": "8a8c4bba",
   "metadata": {},
   "outputs": [],
   "source": [
    "RNN_valid.reset_state()\n",
    "RNN_valid.clear_history()\n",
    "\n",
    "dsa = DynamicSystemAnalyzer(RNN_valid, task)\n",
    "params = {\"fun_tol\" : 0.05,\n",
    "          \"diff_cutoff\":1e-4,\n",
    "          \"sigma_init_guess\":15,\n",
    "          \"patience\":100,\n",
    "          \"stop_length\":100,\n",
    "          \"mode\":\"approx\"}\n",
    "\n",
    "dsa.get_fixed_points(Input=np.array([0, 0, 0, 0, 0]), **params)\n",
    "dsa.get_fixed_points(Input=np.array([0, 0, 0, 0, 1]), **params)\n",
    "\n",
    "pickle.dump(dsa.fp_data, open(\"./training_MemoryAntiAngle_example/fp_data.pkl\", \"wb+\"))"
   ]
  },
  {
   "cell_type": "code",
   "execution_count": null,
   "id": "d1e46a4d",
   "metadata": {},
   "outputs": [],
   "source": [
    "all_points = np.vstack([dsa.fp_data[str([0, 0, 0, 0, 0])][type] for type in list(dsa.fp_data[str([0, 0, 0, 0, 1])].keys())])\n",
    "pca = PCA(n_components=2)\n",
    "pca.fit(all_points)\n",
    "P = np.zeros((RNN_valid.N, 3))\n",
    "P[:, 0] = RNN_valid.W_out[0, :]\n",
    "P[:, 1:] = pca.components_.T\n",
    "P = orthonormalize(P)"
   ]
  },
  {
   "cell_type": "code",
   "execution_count": null,
   "id": "c131a820",
   "metadata": {},
   "outputs": [],
   "source": [
    "fig_fp = dsa.plot_fixed_points(projection='3D', P=P)\n",
    "plt.xlabel(\"Output axis\", fontsize=16)\n",
    "plt.show()"
   ]
  },
  {
   "cell_type": "code",
   "execution_count": null,
   "id": "74d34203",
   "metadata": {},
   "outputs": [],
   "source": []
  }
 ],
 "metadata": {
  "kernelspec": {
   "display_name": "Python 3 (ipykernel)",
   "language": "python",
   "name": "python3"
  },
  "language_info": {
   "codemirror_mode": {
    "name": "ipython",
    "version": 3
   },
   "file_extension": ".py",
   "mimetype": "text/x-python",
   "name": "python",
   "nbconvert_exporter": "python",
   "pygments_lexer": "ipython3",
   "version": "3.12.3"
  }
 },
 "nbformat": 4,
 "nbformat_minor": 5
}
